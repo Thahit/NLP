{
 "cells": [
  {
   "cell_type": "markdown",
   "metadata": {},
   "source": [
    "# LogRegTest\n",
    "Predicting the sentiment(positive/negative) of movie reviews"
   ]
  },
  {
   "cell_type": "markdown",
   "metadata": {},
   "source": [
    "# import"
   ]
  },
  {
   "cell_type": "code",
   "execution_count": 1,
   "metadata": {
    "scrolled": true
   },
   "outputs": [
    {
     "name": "stdout",
     "output_type": "stream",
     "text": [
      "Imports complete.\n"
     ]
    }
   ],
   "source": [
    "import pandas as pd\n",
    "import numpy as np\n",
    "import matplotlib.pyplot as plt\n",
    "import seaborn as sns\n",
    "\n",
    "import string\n",
    "\n",
    "from nltk.corpus import stopwords          \n",
    "from nltk.stem import PorterStemmer        \n",
    "from nltk.tokenize import word_tokenize\n",
    "\n",
    "from sklearn import metrics\n",
    "from sklearn.linear_model import LogisticRegression\n",
    "\n",
    "print(\"Imports complete.\")"
   ]
  },
  {
   "cell_type": "markdown",
   "metadata": {},
   "source": [
    "# data"
   ]
  },
  {
   "cell_type": "code",
   "execution_count": 2,
   "metadata": {},
   "outputs": [
    {
     "data": {
      "text/html": [
       "<div>\n",
       "<style scoped>\n",
       "    .dataframe tbody tr th:only-of-type {\n",
       "        vertical-align: middle;\n",
       "    }\n",
       "\n",
       "    .dataframe tbody tr th {\n",
       "        vertical-align: top;\n",
       "    }\n",
       "\n",
       "    .dataframe thead th {\n",
       "        text-align: right;\n",
       "    }\n",
       "</style>\n",
       "<table border=\"1\" class=\"dataframe\">\n",
       "  <thead>\n",
       "    <tr style=\"text-align: right;\">\n",
       "      <th></th>\n",
       "      <th>text</th>\n",
       "      <th>label</th>\n",
       "    </tr>\n",
       "  </thead>\n",
       "  <tbody>\n",
       "    <tr>\n",
       "      <th>0</th>\n",
       "      <td>I grew up (b. 1965) watching and loving the Th...</td>\n",
       "      <td>0</td>\n",
       "    </tr>\n",
       "    <tr>\n",
       "      <th>1</th>\n",
       "      <td>When I put this movie in my DVD player, and sa...</td>\n",
       "      <td>0</td>\n",
       "    </tr>\n",
       "    <tr>\n",
       "      <th>2</th>\n",
       "      <td>Why do people who do not know what a particula...</td>\n",
       "      <td>0</td>\n",
       "    </tr>\n",
       "    <tr>\n",
       "      <th>3</th>\n",
       "      <td>Even though I have great interest in Biblical ...</td>\n",
       "      <td>0</td>\n",
       "    </tr>\n",
       "    <tr>\n",
       "      <th>4</th>\n",
       "      <td>Im a die hard Dads Army fan and nothing will e...</td>\n",
       "      <td>1</td>\n",
       "    </tr>\n",
       "  </tbody>\n",
       "</table>\n",
       "</div>"
      ],
      "text/plain": [
       "                                                text  label\n",
       "0  I grew up (b. 1965) watching and loving the Th...      0\n",
       "1  When I put this movie in my DVD player, and sa...      0\n",
       "2  Why do people who do not know what a particula...      0\n",
       "3  Even though I have great interest in Biblical ...      0\n",
       "4  Im a die hard Dads Army fan and nothing will e...      1"
      ]
     },
     "execution_count": 2,
     "metadata": {},
     "output_type": "execute_result"
    }
   ],
   "source": [
    "train=pd.read_csv(\"Train.csv\")  # FROM https://thecleverprogrammer.com/2020/12/07/sentiment-analysis-with-python/\n",
    "test=pd.read_csv(\"Test.csv\")\n",
    "train.head()"
   ]
  },
  {
   "cell_type": "code",
   "execution_count": 3,
   "metadata": {},
   "outputs": [
    {
     "data": {
      "text/plain": [
       "<BarContainer object of 2 artists>"
      ]
     },
     "execution_count": 3,
     "metadata": {},
     "output_type": "execute_result"
    },
    {
     "data": {
      "image/png": "[encoded data removed]",
      "text/plain": [
       "<Figure size 432x288 with 1 Axes>"
      ]
     },
     "metadata": {
      "needs_background": "light"
     },
     "output_type": "display_data"
    }
   ],
   "source": [
    "plt.title(\"distribution of Sentiments\")\n",
    "plt.bar(train.label.unique(),train.label.value_counts()) # =50/50"
   ]
  },
  {
   "cell_type": "code",
   "execution_count": 4,
   "metadata": {},
   "outputs": [],
   "source": [
    "trainY=train.pop(\"label\")\n",
    "testY=test.pop(\"label\")\n",
    "\n",
    "trainY=np.array(trainY)\n",
    "testY=np.array(testY)"
   ]
  },
  {
   "cell_type": "code",
   "execution_count": 5,
   "metadata": {},
   "outputs": [
    {
     "data": {
      "text/plain": [
       "\"1st watched 12/7/2002 - 3 out of 10(Dir-Steve Purcell): Typical Mary Kate & Ashley fare with a few more kisses. It looks to me like the girls are getting pretty tired of this stuff and it will be interesting what happens to them if they ever decide to split up and go there own ways. In this episode of their adventures they are interns in Rome for a `fashion' designer who puts them right into the mailroom to learn what working hard is all about(I guess..). Besides the typical flirtations with boys there is nothing much else except the Rome scenario until about ¾ way into the movie when it's finally revealed why they are getting fired, then re-hired, then fired again, then re-hired again. This is definetly made by people who don't understand the corporate world and it shows in their interpretation of it. Maybe the real world will be their next adventure(if there is one.). Even my kids didn't seem to care for this boring `adventure' in the make-believe. Let's see they probably only have a couple of years till their legal adults. We'll see what happens then.\""
      ]
     },
     "execution_count": 5,
     "metadata": {},
     "output_type": "execute_result"
    }
   ],
   "source": [
    "train=train.values.tolist()\n",
    "test=test.values.tolist()\n",
    "#flatten the lists\n",
    "train = [item for sublist in train for item in sublist]\n",
    "test = [item for sublist in test for item in sublist]\n",
    "test[1]"
   ]
  },
  {
   "cell_type": "code",
   "execution_count": 6,
   "metadata": {},
   "outputs": [],
   "source": [
    "# nltk.download('stopwords')\n",
    "# nltk.download('punkt')\n",
    "stopwords_english = stopwords.words('english')"
   ]
  },
  {
   "cell_type": "code",
   "execution_count": 7,
   "metadata": {},
   "outputs": [],
   "source": [
    "def process_text(text):\n",
    "    token = word_tokenize(text)\n",
    "    clean = []\n",
    "    \n",
    "    for word in token: # Go through every word in your tokens list\n",
    "        if (word not in stopwords_english and  word not in string.punctuation):  \n",
    "            clean.append(word)\n",
    "    \n",
    "    return clean"
   ]
  },
  {
   "cell_type": "code",
   "execution_count": 8,
   "metadata": {},
   "outputs": [],
   "source": [
    "def build_freqs(texts, sentiments):\n",
    "    \n",
    "    yslist = np.squeeze(sentiments).tolist()    \n",
    "    freqs = {}\n",
    "    for y, text in zip(yslist, texts):\n",
    "        for word in process_text(text):\n",
    "            pair = (word, y)\n",
    "            freqs[pair] = freqs.get(pair, 0) + 1\n",
    "    \n",
    "    return freqs"
   ]
  },
  {
   "cell_type": "code",
   "execution_count": 9,
   "metadata": {
    "scrolled": true
   },
   "outputs": [],
   "source": [
    "freqDict = build_freqs(train, trainY)"
   ]
  },
  {
   "cell_type": "code",
   "execution_count": 10,
   "metadata": {},
   "outputs": [],
   "source": [
    "def extract_features(text, freqs):# creating feature vectors\n",
    "\n",
    "    word_l = process_text(text)\n",
    "\n",
    "    x = np.zeros((1, 3)) # 3=2 sentiments + bias\n",
    "    x[0,0] = 1\n",
    "    \n",
    "    for word in word_l:\n",
    "        if (word, 0) in freqs:\n",
    "            x[0,1] += freqs[(word, 0.0)]\n",
    "        if (word, 1) in freqs:\n",
    "            x[0,2] += freqs[(word, 1.0)]\n",
    "\n",
    "    return x"
   ]
  },
  {
   "cell_type": "code",
   "execution_count": 11,
   "metadata": {},
   "outputs": [
    {
     "data": {
      "text/plain": [
       "array([[1.000000e+00, 5.105800e+05, 4.685480e+05],\n",
       "       [1.000000e+00, 2.265441e+06, 2.009915e+06],\n",
       "       [1.000000e+00, 8.659350e+05, 8.015340e+05],\n",
       "       ...,\n",
       "       [1.000000e+00, 8.243790e+05, 7.454330e+05],\n",
       "       [1.000000e+00, 1.037215e+06, 9.930010e+05],\n",
       "       [1.000000e+00, 9.001490e+05, 8.663870e+05]])"
      ]
     },
     "execution_count": 11,
     "metadata": {},
     "output_type": "execute_result"
    }
   ],
   "source": [
    "trainNew=np.zeros((len(train), 3))\n",
    "testNew=np.zeros((len(test), 3))\n",
    "\n",
    "for i in range(len(train)):\n",
    "    trainNew[i, :]= extract_features(train[i], freqDict)\n",
    "\n",
    "for i in range(len(test)):\n",
    "    testNew[i, :]= extract_features(test[i], freqDict)\n",
    "trainNew"
   ]
  },
  {
   "cell_type": "markdown",
   "metadata": {},
   "source": [
    "# Model"
   ]
  },
  {
   "cell_type": "code",
   "execution_count": 12,
   "metadata": {},
   "outputs": [],
   "source": [
    "# def sigmoid(z): # could have imported\n",
    "#     h = 1/(1+np.exp(-z))\n",
    "#     return h"
   ]
  },
  {
   "cell_type": "code",
   "execution_count": 13,
   "metadata": {},
   "outputs": [],
   "source": [
    "# def LogReg(x, y, theta, alpha, num_iters): # log regression gradient descent\n",
    "\n",
    "#     m = x.shape[0]\n",
    "\n",
    "#     for i in range(0, num_iters):\n",
    "        \n",
    "#         z = x.dot(theta)\n",
    "#         h = sigmoid(z)\n",
    "#         J = np.dot(-1./m, (y.T.dot(np.log(h)) + (1-y).T.dot(np.log(1-h))))\n",
    "\n",
    "#         theta = theta - np.dot(alpha/m, (x.T.dot(h-y)))\n",
    "        \n",
    "#         if i+1%5==0:\n",
    "#             print(\"cost\"+J)\n",
    "\n",
    "#     J = float(J)\n",
    "#     return J, theta"
   ]
  },
  {
   "cell_type": "code",
   "execution_count": 14,
   "metadata": {},
   "outputs": [],
   "source": [
    "# def test_logistic_regression(test_x, test_y, freqs, theta):\n",
    "\n",
    "#     y_hat = []\n",
    "    \n",
    "#     for text in test_x:\n",
    "        \n",
    "#         y_pred = predict_tweet(text, freqs, theta)\n",
    "        \n",
    "#         if y_pred > 0.5:\n",
    "#             y_hat.append(1)\n",
    "#         else:\n",
    "#             y_hat.append(0)\n",
    "\n",
    "    \n",
    "#     y_hat= np.asarray(y_hat)\n",
    "#     test_y= np.squeeze(test_y)\n",
    "\n",
    "#     compare = y_hat==test_y\n",
    "    \n",
    "#     accuracy = np.count_nonzero(compare==True)/len(compare)\n",
    "\n",
    "#     return accuracy"
   ]
  },
  {
   "cell_type": "code",
   "execution_count": 15,
   "metadata": {},
   "outputs": [],
   "source": [
    "# too slow + overflow, should create batches... but the point of the exercice is to test the vevtorisation, so I will use sklearn\n",
    "# cost, theta = LogReg(trainNew, trainY,  np.zeros((3, 1)), .2, 10)\n",
    "# cost, theta = LogReg(trainNew, trainY,  theta, .02, 10)\n",
    "# cost, theta = LogReg(trainNew, trainY,  theta, .002, 100)\n",
    "# print(cost)"
   ]
  },
  {
   "cell_type": "code",
   "execution_count": 16,
   "metadata": {},
   "outputs": [
    {
     "name": "stdout",
     "output_type": "stream",
     "text": [
      "Accuracy: 0.6688\n"
     ]
    }
   ],
   "source": [
    "Reg =LogisticRegression(max_iter=500).fit(trainNew,trainY)\n",
    "pred = Reg.predict(testNew)\n",
    "\n",
    "print(\"Accuracy:\", metrics.accuracy_score(testY, pred))"
   ]
  },
  {
   "cell_type": "code",
   "execution_count": 17,
   "metadata": {},
   "outputs": [
    {
     "data": {
      "text/plain": [
       "<BarContainer object of 2 artists>"
      ]
     },
     "execution_count": 17,
     "metadata": {},
     "output_type": "execute_result"
    },
    {
     "data": {
      "image/png": "[encoded data removed]",
      "text/plain": [
       "<Figure size 432x288 with 1 Axes>"
      ]
     },
     "metadata": {
      "needs_background": "light"
     },
     "output_type": "display_data"
    }
   ],
   "source": [
    "import collections\n",
    "\n",
    "keys=[0,1]\n",
    "\n",
    "nrDict=collections.Counter(pred)\n",
    "values = list( map(nrDict.get, keys) )\n",
    "\n",
    "plt.title(\"distribution of Sentiments\")\n",
    "plt.bar(x=keys, height=values)"
   ]
  },
  {
   "cell_type": "code",
   "execution_count": 18,
   "metadata": {},
   "outputs": [
    {
     "data": {
      "text/plain": [
       "<AxesSubplot:xlabel='Predicted', ylabel='Actual'>"
      ]
     },
     "execution_count": 18,
     "metadata": {},
     "output_type": "execute_result"
    },
    {
     "data": {
      "image/png": "[encoded data removed]",
      "text/plain": [
       "<Figure size 432x288 with 2 Axes>"
      ]
     },
     "metadata": {
      "needs_background": "light"
     },
     "output_type": "display_data"
    }
   ],
   "source": [
    "df = pd.DataFrame({'Actual':   testY, 'Predicted': pred})\n",
    "\n",
    "confusion_matrix = pd.crosstab(df['Actual'], df['Predicted'], rownames=['Actual'], colnames=['Predicted'])\n",
    "\n",
    "sns.heatmap(confusion_matrix, annot=True)"
   ]
  },
  {
   "cell_type": "markdown",
   "metadata": {},
   "source": [
    "The results are worse than I expected."
   ]
  }
 ],
 "metadata": {
  "kernelspec": {
   "display_name": "Python 3",
   "language": "python",
   "name": "python3"
  },
  "language_info": {
   "codemirror_mode": {
    "name": "ipython",
    "version": 3
   },
   "file_extension": ".py",
   "mimetype": "text/x-python",
   "name": "python",
   "nbconvert_exporter": "python",
   "pygments_lexer": "ipython3",
   "version": "3.7.9"
  }
 },
 "nbformat": 4,
 "nbformat_minor": 4
}
